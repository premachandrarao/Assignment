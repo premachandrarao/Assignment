{
 "cells": [
  {
   "cell_type": "markdown",
   "metadata": {},
   "source": [
    "<center>\n",
    "    <img src=\"https://cf-courses-data.s3.us.cloud-object-storage.appdomain.cloud/IBMDeveloperSkillsNetwork-DS0105EN-SkillsNetwork/labs/Module2/images/SN_web_lightmode.png\" width=\"300\" alt=\"cognitiveclass.ai logo\"  />\n",
    "</center>\n"
   ]
  },
  {
   "cell_type": "markdown",
   "metadata": {},
   "source": [
    "#### Add your code below following the instructions given in the course\n"
   ]
  },
  {
   "cell_type": "markdown",
   "metadata": {},
   "source": [
    "# My Jupyter Notebook on IBM Watson Studio"
   ]
  },
  {
   "cell_type": "markdown",
   "metadata": {},
   "source": [
    "<b>**Nikhil P Rao** </br> Data Scientist"
   ]
  },
  {
   "cell_type": "markdown",
   "metadata": {},
   "source": [
    "_I am interested in data science because i love working with data and bring innovative ideas into this field_"
   ]
  },
  {
   "cell_type": "markdown",
   "metadata": {
    "tags": []
   },
   "source": [
    "### Code to add numbers as users enter the limit"
   ]
  },
  {
   "cell_type": "code",
   "execution_count": 27,
   "metadata": {},
   "outputs": [
    {
     "name": "stdin",
     "output_type": "stream",
     "text": [
      " 10\n"
     ]
    },
    {
     "name": "stdout",
     "output_type": "stream",
     "text": [
      "The sum of first 10 number is 45\n"
     ]
    }
   ],
   "source": [
    "a = input()\n",
    "num = int(a)\n",
    "sum = 0\n",
    "for i in range(num):\n",
    "    sum += i\n",
    "print(\"The sum of first \"+a+\" number is \" +str(sum))"
   ]
  },
  {
   "cell_type": "markdown",
   "metadata": {},
   "source": [
    "Benifits of Data Science\n",
    "\n",
    "---\n",
    "\n",
    "* azszf\n",
    "* sdfg\n",
    "\n",
    "---\n",
    "\n",
    "1. First ordered list item\n",
    "2. Another item\n",
    "\n",
    "---\n",
    "\n",
    "Colons can be used to align columns.\n",
    "\n",
    "| Tables        | Are           | Cool    |\n",
    "| ------------- |:-------------:| -----:  |\n",
    "| col 1 is      | right-aligned | rs1500  |\n",
    "| col 2 is      | centered      |   rs180 |\n",
    "| col 3 is      | are neat      |    rs10 |\n",
    "\n",
    "---\n",
    "\n",
    "\n",
    "[You will find all answers here](https://www.google.com)\n",
    "\n",
    "---\n",
    "\n",
    "\n",
    "Inline-style: \n",
    "![alt text](http://www.ormae.com/photos/editor/433239dad170707a1cf70dfa97415995bdb0b8ed.jpeg \"Logo Title Text 1\")\n",
    "\n",
    "---\n",
    "\n",
    "\n",
    "Inline `code` has `back-ticks around` it.\n",
    "\n",
    "```python\n",
    "s = \"Python syntax highlighting\"\n",
    "print s\n",
    "```\n",
    "\n",
    "---\n",
    "\n",
    "\n",
    "> Blockquotes are very handy for important messages its eye catchy\n",
    "\n",
    "---\n",
    "\n",
    "\n",
    "~~Scratch this.~~"
   ]
  },
  {
   "cell_type": "code",
   "execution_count": null,
   "metadata": {},
   "outputs": [],
   "source": []
  }
 ],
 "metadata": {
  "kernelspec": {
   "display_name": "Python",
   "language": "python",
   "name": "conda-env-python-py"
  },
  "language_info": {
   "codemirror_mode": {
    "name": "ipython",
    "version": 3
   },
   "file_extension": ".py",
   "mimetype": "text/x-python",
   "name": "python",
   "nbconvert_exporter": "python",
   "pygments_lexer": "ipython3",
   "version": "3.7.12"
  }
 },
 "nbformat": 4,
 "nbformat_minor": 4
}
